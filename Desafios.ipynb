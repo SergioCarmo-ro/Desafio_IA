{
  "cells": [
    {
      "cell_type": "markdown",
      "metadata": {
        "id": "view-in-github",
        "colab_type": "text"
      },
      "source": [
        "<a href=\"https://colab.research.google.com/github/SergioCarmo-ro/Desafio_IA/blob/main/Desafios.ipynb\" target=\"_parent\"><img src=\"https://colab.research.google.com/assets/colab-badge.svg\" alt=\"Open In Colab\"/></a>"
      ]
    },
    {
      "cell_type": "markdown",
      "metadata": {
        "id": "qxah03ikONCD"
      },
      "source": [
        "# Sobre o notebook\n",
        "\n",
        "Aproveite esse espaço para as atividades do curso de **IA aplicada a Data Science: utilizando IA na construção de visualização de dados** da Alura. Aqui você pode escrever e testar os códigos dos diversos exercícios do **Mão na Massa** envolvendo os aprendizados de cada aula.\n",
        "\n",
        "Este notebook foi construído com espaços para adicionar o prompt que será utilizado para criar o código pelo ChatGPT e as células dos desafios propostos no curso, com eles você tem espaço para construir e executar suas soluções.\n"
      ]
    },
    {
      "cell_type": "markdown",
      "metadata": {
        "id": "tc_8WoP0E6gR"
      },
      "source": [
        "Logo abaixo, temos as url's onde estão localizadas as bases utilizadas no projeto juntamente com a url com dados que utilizaremos também no desafio"
      ]
    },
    {
      "cell_type": "code",
      "execution_count": 1,
      "metadata": {
        "id": "baYKinpCE6gS"
      },
      "outputs": [],
      "source": [
        "url_clientes = \"https://raw.githubusercontent.com/alura-cursos/ia-datascience-dataviz/main/dados/zoop_clientes.csv\"\n",
        "url_vendas = \"https://raw.githubusercontent.com/alura-cursos/ia-datascience-dataviz/main/dados/zoop_vendas.csv\"\n",
        "url_zoop_pay = \"https://raw.githubusercontent.com/alura-cursos/ia-datascience-dataviz/main/dados/cadastro_zoop_pay.csv\""
      ]
    },
    {
      "cell_type": "markdown",
      "metadata": {
        "id": "IA3M1eso_L2Z"
      },
      "source": [
        "## Aula 01 - Conhecendo os dados"
      ]
    },
    {
      "cell_type": "markdown",
      "metadata": {
        "id": "AmpR_VE4CImQ"
      },
      "source": [
        "### Mão na Massa - Zoop Pay"
      ]
    },
    {
      "cell_type": "markdown",
      "metadata": {
        "id": "aYGNywXCE6gT"
      },
      "source": [
        "> #### <strong><font color=\"#203f75\" size= 6>Prompt:</font></strong>\n",
        "\n",
        "Escreva aqui o prompt que você utilizou para gerar o código do desafio!\n",
        "\n",
        "Faça uma breve exploração dos dados para compreender um pouco sobre eles. Lembrando que os dados desta base também já estão limpos e tratados. Construa um código para executar esta etapa usando o Python."
      ]
    },
    {
      "cell_type": "code",
      "execution_count": 2,
      "metadata": {
        "id": "ZruvypSoO6oP"
      },
      "outputs": [],
      "source": [
        "import pandas as pd\n",
        "import matplotlib.pyplot as plt\n",
        "import seaborn as sns"
      ]
    },
    {
      "cell_type": "code",
      "source": [
        "# Carregando os dados\n",
        "df_clientes = pd.read_csv(url_clientes)\n",
        "df_vendas = pd.read_csv(url_vendas)\n",
        "df_zoop_pay = pd.read_csv(url_zoop_pay)"
      ],
      "metadata": {
        "id": "VX2ZMi9QHAbV"
      },
      "execution_count": 3,
      "outputs": []
    },
    {
      "cell_type": "code",
      "source": [
        "df_clientes.head()"
      ],
      "metadata": {
        "colab": {
          "base_uri": "https://localhost:8080/",
          "height": 206
        },
        "id": "S5-6_w38HcC5",
        "outputId": "f3ef1288-9bb7-44d3-abde-3dd3ff77fc23"
      },
      "execution_count": 4,
      "outputs": [
        {
          "output_type": "execute_result",
          "data": {
            "text/plain": [
              "   ID_compra  ID_cliente     cidade                   uf    regiao  idade  \\\n",
              "0        904        8972      Natal  Rio Grande do Norte  Nordeste     49   \n",
              "1       4613        5120  São Paulo            São Paulo   Sudeste     49   \n",
              "2       5579        1847  São Paulo            São Paulo   Sudeste     24   \n",
              "3       2405        2846  São Paulo            São Paulo   Sudeste     38   \n",
              "4       2485        2715   Salvador                Bahia  Nordeste     30   \n",
              "\n",
              "  sexo_biologico cashback  avaliacao_compra  \n",
              "0      Masculino      Não                 9  \n",
              "1       Feminino      Não                 9  \n",
              "2       Feminino      Não                 8  \n",
              "3       Feminino      Sim                 7  \n",
              "4       Feminino      Não                10  "
            ],
            "text/html": [
              "\n",
              "  <div id=\"df-3dcde9e3-07c4-4777-b8c6-b50923374131\" class=\"colab-df-container\">\n",
              "    <div>\n",
              "<style scoped>\n",
              "    .dataframe tbody tr th:only-of-type {\n",
              "        vertical-align: middle;\n",
              "    }\n",
              "\n",
              "    .dataframe tbody tr th {\n",
              "        vertical-align: top;\n",
              "    }\n",
              "\n",
              "    .dataframe thead th {\n",
              "        text-align: right;\n",
              "    }\n",
              "</style>\n",
              "<table border=\"1\" class=\"dataframe\">\n",
              "  <thead>\n",
              "    <tr style=\"text-align: right;\">\n",
              "      <th></th>\n",
              "      <th>ID_compra</th>\n",
              "      <th>ID_cliente</th>\n",
              "      <th>cidade</th>\n",
              "      <th>uf</th>\n",
              "      <th>regiao</th>\n",
              "      <th>idade</th>\n",
              "      <th>sexo_biologico</th>\n",
              "      <th>cashback</th>\n",
              "      <th>avaliacao_compra</th>\n",
              "    </tr>\n",
              "  </thead>\n",
              "  <tbody>\n",
              "    <tr>\n",
              "      <th>0</th>\n",
              "      <td>904</td>\n",
              "      <td>8972</td>\n",
              "      <td>Natal</td>\n",
              "      <td>Rio Grande do Norte</td>\n",
              "      <td>Nordeste</td>\n",
              "      <td>49</td>\n",
              "      <td>Masculino</td>\n",
              "      <td>Não</td>\n",
              "      <td>9</td>\n",
              "    </tr>\n",
              "    <tr>\n",
              "      <th>1</th>\n",
              "      <td>4613</td>\n",
              "      <td>5120</td>\n",
              "      <td>São Paulo</td>\n",
              "      <td>São Paulo</td>\n",
              "      <td>Sudeste</td>\n",
              "      <td>49</td>\n",
              "      <td>Feminino</td>\n",
              "      <td>Não</td>\n",
              "      <td>9</td>\n",
              "    </tr>\n",
              "    <tr>\n",
              "      <th>2</th>\n",
              "      <td>5579</td>\n",
              "      <td>1847</td>\n",
              "      <td>São Paulo</td>\n",
              "      <td>São Paulo</td>\n",
              "      <td>Sudeste</td>\n",
              "      <td>24</td>\n",
              "      <td>Feminino</td>\n",
              "      <td>Não</td>\n",
              "      <td>8</td>\n",
              "    </tr>\n",
              "    <tr>\n",
              "      <th>3</th>\n",
              "      <td>2405</td>\n",
              "      <td>2846</td>\n",
              "      <td>São Paulo</td>\n",
              "      <td>São Paulo</td>\n",
              "      <td>Sudeste</td>\n",
              "      <td>38</td>\n",
              "      <td>Feminino</td>\n",
              "      <td>Sim</td>\n",
              "      <td>7</td>\n",
              "    </tr>\n",
              "    <tr>\n",
              "      <th>4</th>\n",
              "      <td>2485</td>\n",
              "      <td>2715</td>\n",
              "      <td>Salvador</td>\n",
              "      <td>Bahia</td>\n",
              "      <td>Nordeste</td>\n",
              "      <td>30</td>\n",
              "      <td>Feminino</td>\n",
              "      <td>Não</td>\n",
              "      <td>10</td>\n",
              "    </tr>\n",
              "  </tbody>\n",
              "</table>\n",
              "</div>\n",
              "    <div class=\"colab-df-buttons\">\n",
              "\n",
              "  <div class=\"colab-df-container\">\n",
              "    <button class=\"colab-df-convert\" onclick=\"convertToInteractive('df-3dcde9e3-07c4-4777-b8c6-b50923374131')\"\n",
              "            title=\"Convert this dataframe to an interactive table.\"\n",
              "            style=\"display:none;\">\n",
              "\n",
              "  <svg xmlns=\"http://www.w3.org/2000/svg\" height=\"24px\" viewBox=\"0 -960 960 960\">\n",
              "    <path d=\"M120-120v-720h720v720H120Zm60-500h600v-160H180v160Zm220 220h160v-160H400v160Zm0 220h160v-160H400v160ZM180-400h160v-160H180v160Zm440 0h160v-160H620v160ZM180-180h160v-160H180v160Zm440 0h160v-160H620v160Z\"/>\n",
              "  </svg>\n",
              "    </button>\n",
              "\n",
              "  <style>\n",
              "    .colab-df-container {\n",
              "      display:flex;\n",
              "      gap: 12px;\n",
              "    }\n",
              "\n",
              "    .colab-df-convert {\n",
              "      background-color: #E8F0FE;\n",
              "      border: none;\n",
              "      border-radius: 50%;\n",
              "      cursor: pointer;\n",
              "      display: none;\n",
              "      fill: #1967D2;\n",
              "      height: 32px;\n",
              "      padding: 0 0 0 0;\n",
              "      width: 32px;\n",
              "    }\n",
              "\n",
              "    .colab-df-convert:hover {\n",
              "      background-color: #E2EBFA;\n",
              "      box-shadow: 0px 1px 2px rgba(60, 64, 67, 0.3), 0px 1px 3px 1px rgba(60, 64, 67, 0.15);\n",
              "      fill: #174EA6;\n",
              "    }\n",
              "\n",
              "    .colab-df-buttons div {\n",
              "      margin-bottom: 4px;\n",
              "    }\n",
              "\n",
              "    [theme=dark] .colab-df-convert {\n",
              "      background-color: #3B4455;\n",
              "      fill: #D2E3FC;\n",
              "    }\n",
              "\n",
              "    [theme=dark] .colab-df-convert:hover {\n",
              "      background-color: #434B5C;\n",
              "      box-shadow: 0px 1px 3px 1px rgba(0, 0, 0, 0.15);\n",
              "      filter: drop-shadow(0px 1px 2px rgba(0, 0, 0, 0.3));\n",
              "      fill: #FFFFFF;\n",
              "    }\n",
              "  </style>\n",
              "\n",
              "    <script>\n",
              "      const buttonEl =\n",
              "        document.querySelector('#df-3dcde9e3-07c4-4777-b8c6-b50923374131 button.colab-df-convert');\n",
              "      buttonEl.style.display =\n",
              "        google.colab.kernel.accessAllowed ? 'block' : 'none';\n",
              "\n",
              "      async function convertToInteractive(key) {\n",
              "        const element = document.querySelector('#df-3dcde9e3-07c4-4777-b8c6-b50923374131');\n",
              "        const dataTable =\n",
              "          await google.colab.kernel.invokeFunction('convertToInteractive',\n",
              "                                                    [key], {});\n",
              "        if (!dataTable) return;\n",
              "\n",
              "        const docLinkHtml = 'Like what you see? Visit the ' +\n",
              "          '<a target=\"_blank\" href=https://colab.research.google.com/notebooks/data_table.ipynb>data table notebook</a>'\n",
              "          + ' to learn more about interactive tables.';\n",
              "        element.innerHTML = '';\n",
              "        dataTable['output_type'] = 'display_data';\n",
              "        await google.colab.output.renderOutput(dataTable, element);\n",
              "        const docLink = document.createElement('div');\n",
              "        docLink.innerHTML = docLinkHtml;\n",
              "        element.appendChild(docLink);\n",
              "      }\n",
              "    </script>\n",
              "  </div>\n",
              "\n",
              "\n",
              "    <div id=\"df-aaf7079b-741e-4aec-b921-16ee9e52c460\">\n",
              "      <button class=\"colab-df-quickchart\" onclick=\"quickchart('df-aaf7079b-741e-4aec-b921-16ee9e52c460')\"\n",
              "                title=\"Suggest charts\"\n",
              "                style=\"display:none;\">\n",
              "\n",
              "<svg xmlns=\"http://www.w3.org/2000/svg\" height=\"24px\"viewBox=\"0 0 24 24\"\n",
              "     width=\"24px\">\n",
              "    <g>\n",
              "        <path d=\"M19 3H5c-1.1 0-2 .9-2 2v14c0 1.1.9 2 2 2h14c1.1 0 2-.9 2-2V5c0-1.1-.9-2-2-2zM9 17H7v-7h2v7zm4 0h-2V7h2v10zm4 0h-2v-4h2v4z\"/>\n",
              "    </g>\n",
              "</svg>\n",
              "      </button>\n",
              "\n",
              "<style>\n",
              "  .colab-df-quickchart {\n",
              "      --bg-color: #E8F0FE;\n",
              "      --fill-color: #1967D2;\n",
              "      --hover-bg-color: #E2EBFA;\n",
              "      --hover-fill-color: #174EA6;\n",
              "      --disabled-fill-color: #AAA;\n",
              "      --disabled-bg-color: #DDD;\n",
              "  }\n",
              "\n",
              "  [theme=dark] .colab-df-quickchart {\n",
              "      --bg-color: #3B4455;\n",
              "      --fill-color: #D2E3FC;\n",
              "      --hover-bg-color: #434B5C;\n",
              "      --hover-fill-color: #FFFFFF;\n",
              "      --disabled-bg-color: #3B4455;\n",
              "      --disabled-fill-color: #666;\n",
              "  }\n",
              "\n",
              "  .colab-df-quickchart {\n",
              "    background-color: var(--bg-color);\n",
              "    border: none;\n",
              "    border-radius: 50%;\n",
              "    cursor: pointer;\n",
              "    display: none;\n",
              "    fill: var(--fill-color);\n",
              "    height: 32px;\n",
              "    padding: 0;\n",
              "    width: 32px;\n",
              "  }\n",
              "\n",
              "  .colab-df-quickchart:hover {\n",
              "    background-color: var(--hover-bg-color);\n",
              "    box-shadow: 0 1px 2px rgba(60, 64, 67, 0.3), 0 1px 3px 1px rgba(60, 64, 67, 0.15);\n",
              "    fill: var(--button-hover-fill-color);\n",
              "  }\n",
              "\n",
              "  .colab-df-quickchart-complete:disabled,\n",
              "  .colab-df-quickchart-complete:disabled:hover {\n",
              "    background-color: var(--disabled-bg-color);\n",
              "    fill: var(--disabled-fill-color);\n",
              "    box-shadow: none;\n",
              "  }\n",
              "\n",
              "  .colab-df-spinner {\n",
              "    border: 2px solid var(--fill-color);\n",
              "    border-color: transparent;\n",
              "    border-bottom-color: var(--fill-color);\n",
              "    animation:\n",
              "      spin 1s steps(1) infinite;\n",
              "  }\n",
              "\n",
              "  @keyframes spin {\n",
              "    0% {\n",
              "      border-color: transparent;\n",
              "      border-bottom-color: var(--fill-color);\n",
              "      border-left-color: var(--fill-color);\n",
              "    }\n",
              "    20% {\n",
              "      border-color: transparent;\n",
              "      border-left-color: var(--fill-color);\n",
              "      border-top-color: var(--fill-color);\n",
              "    }\n",
              "    30% {\n",
              "      border-color: transparent;\n",
              "      border-left-color: var(--fill-color);\n",
              "      border-top-color: var(--fill-color);\n",
              "      border-right-color: var(--fill-color);\n",
              "    }\n",
              "    40% {\n",
              "      border-color: transparent;\n",
              "      border-right-color: var(--fill-color);\n",
              "      border-top-color: var(--fill-color);\n",
              "    }\n",
              "    60% {\n",
              "      border-color: transparent;\n",
              "      border-right-color: var(--fill-color);\n",
              "    }\n",
              "    80% {\n",
              "      border-color: transparent;\n",
              "      border-right-color: var(--fill-color);\n",
              "      border-bottom-color: var(--fill-color);\n",
              "    }\n",
              "    90% {\n",
              "      border-color: transparent;\n",
              "      border-bottom-color: var(--fill-color);\n",
              "    }\n",
              "  }\n",
              "</style>\n",
              "\n",
              "      <script>\n",
              "        async function quickchart(key) {\n",
              "          const quickchartButtonEl =\n",
              "            document.querySelector('#' + key + ' button');\n",
              "          quickchartButtonEl.disabled = true;  // To prevent multiple clicks.\n",
              "          quickchartButtonEl.classList.add('colab-df-spinner');\n",
              "          try {\n",
              "            const charts = await google.colab.kernel.invokeFunction(\n",
              "                'suggestCharts', [key], {});\n",
              "          } catch (error) {\n",
              "            console.error('Error during call to suggestCharts:', error);\n",
              "          }\n",
              "          quickchartButtonEl.classList.remove('colab-df-spinner');\n",
              "          quickchartButtonEl.classList.add('colab-df-quickchart-complete');\n",
              "        }\n",
              "        (() => {\n",
              "          let quickchartButtonEl =\n",
              "            document.querySelector('#df-aaf7079b-741e-4aec-b921-16ee9e52c460 button');\n",
              "          quickchartButtonEl.style.display =\n",
              "            google.colab.kernel.accessAllowed ? 'block' : 'none';\n",
              "        })();\n",
              "      </script>\n",
              "    </div>\n",
              "\n",
              "    </div>\n",
              "  </div>\n"
            ],
            "application/vnd.google.colaboratory.intrinsic+json": {
              "type": "dataframe",
              "variable_name": "df_clientes",
              "summary": "{\n  \"name\": \"df_clientes\",\n  \"rows\": 6169,\n  \"fields\": [\n    {\n      \"column\": \"ID_compra\",\n      \"properties\": {\n        \"dtype\": \"number\",\n        \"std\": 1780,\n        \"min\": 1,\n        \"max\": 6169,\n        \"num_unique_values\": 6169,\n        \"samples\": [\n          1418,\n          5069,\n          64\n        ],\n        \"semantic_type\": \"\",\n        \"description\": \"\"\n      }\n    },\n    {\n      \"column\": \"ID_cliente\",\n      \"properties\": {\n        \"dtype\": \"number\",\n        \"std\": 2610,\n        \"min\": 1005,\n        \"max\": 9999,\n        \"num_unique_values\": 4453,\n        \"samples\": [\n          5545,\n          1982,\n          6905\n        ],\n        \"semantic_type\": \"\",\n        \"description\": \"\"\n      }\n    },\n    {\n      \"column\": \"cidade\",\n      \"properties\": {\n        \"dtype\": \"category\",\n        \"num_unique_values\": 96,\n        \"samples\": [\n          \"Paulista\",\n          \"Praia Grande\",\n          \"Caucaia\"\n        ],\n        \"semantic_type\": \"\",\n        \"description\": \"\"\n      }\n    },\n    {\n      \"column\": \"uf\",\n      \"properties\": {\n        \"dtype\": \"category\",\n        \"num_unique_values\": 27,\n        \"samples\": [\n          \"Pernambuco\",\n          \"Goi\\u00e1s\",\n          \"Cear\\u00e1\"\n        ],\n        \"semantic_type\": \"\",\n        \"description\": \"\"\n      }\n    },\n    {\n      \"column\": \"regiao\",\n      \"properties\": {\n        \"dtype\": \"category\",\n        \"num_unique_values\": 5,\n        \"samples\": [\n          \"Sudeste\",\n          \"Norte\",\n          \"Centro-Oeste\"\n        ],\n        \"semantic_type\": \"\",\n        \"description\": \"\"\n      }\n    },\n    {\n      \"column\": \"idade\",\n      \"properties\": {\n        \"dtype\": \"number\",\n        \"std\": 9,\n        \"min\": 18,\n        \"max\": 70,\n        \"num_unique_values\": 53,\n        \"samples\": [\n          45,\n          57,\n          66\n        ],\n        \"semantic_type\": \"\",\n        \"description\": \"\"\n      }\n    },\n    {\n      \"column\": \"sexo_biologico\",\n      \"properties\": {\n        \"dtype\": \"category\",\n        \"num_unique_values\": 2,\n        \"samples\": [\n          \"Feminino\",\n          \"Masculino\"\n        ],\n        \"semantic_type\": \"\",\n        \"description\": \"\"\n      }\n    },\n    {\n      \"column\": \"cashback\",\n      \"properties\": {\n        \"dtype\": \"category\",\n        \"num_unique_values\": 2,\n        \"samples\": [\n          \"Sim\",\n          \"N\\u00e3o\"\n        ],\n        \"semantic_type\": \"\",\n        \"description\": \"\"\n      }\n    },\n    {\n      \"column\": \"avaliacao_compra\",\n      \"properties\": {\n        \"dtype\": \"number\",\n        \"std\": 1,\n        \"min\": 0,\n        \"max\": 10,\n        \"num_unique_values\": 11,\n        \"samples\": [\n          4,\n          9\n        ],\n        \"semantic_type\": \"\",\n        \"description\": \"\"\n      }\n    }\n  ]\n}"
            }
          },
          "metadata": {},
          "execution_count": 4
        }
      ]
    },
    {
      "cell_type": "code",
      "source": [
        "df_vendas.head()"
      ],
      "metadata": {
        "colab": {
          "base_uri": "https://localhost:8080/",
          "height": 206
        },
        "id": "_pw9kzRFHnHj",
        "outputId": "692bd8d9-106c-4a65-8850-e8cf60a6c623"
      },
      "execution_count": 5,
      "outputs": [
        {
          "output_type": "execute_result",
          "data": {
            "text/plain": [
              "   ID_compra        data horario                   categoria  preco_unitario  \\\n",
              "0          6  2023-01-03   20:40                 Eletrônicos          4457.9   \n",
              "1          5  2023-01-03   21:48    Ferramentas e construção           115.9   \n",
              "2          9  2023-01-03   17:08  Beleza e cuidados pessoais            68.9   \n",
              "3          4  2023-01-03   14:29    Ferramentas e construção            80.9   \n",
              "4          8  2023-01-03   18:02  Beleza e cuidados pessoais           165.0   \n",
              "\n",
              "   quantidade   frete   metodo_pagamento  \n",
              "0           4  713.26             Boleto  \n",
              "1           1    0.00                PIX  \n",
              "2           2   13.78  Cartão de Crédito  \n",
              "3           5   40.45                PIX  \n",
              "4           4    0.00                PIX  "
            ],
            "text/html": [
              "\n",
              "  <div id=\"df-38adeac4-b452-4ac6-ad1d-6bdd5f77ec05\" class=\"colab-df-container\">\n",
              "    <div>\n",
              "<style scoped>\n",
              "    .dataframe tbody tr th:only-of-type {\n",
              "        vertical-align: middle;\n",
              "    }\n",
              "\n",
              "    .dataframe tbody tr th {\n",
              "        vertical-align: top;\n",
              "    }\n",
              "\n",
              "    .dataframe thead th {\n",
              "        text-align: right;\n",
              "    }\n",
              "</style>\n",
              "<table border=\"1\" class=\"dataframe\">\n",
              "  <thead>\n",
              "    <tr style=\"text-align: right;\">\n",
              "      <th></th>\n",
              "      <th>ID_compra</th>\n",
              "      <th>data</th>\n",
              "      <th>horario</th>\n",
              "      <th>categoria</th>\n",
              "      <th>preco_unitario</th>\n",
              "      <th>quantidade</th>\n",
              "      <th>frete</th>\n",
              "      <th>metodo_pagamento</th>\n",
              "    </tr>\n",
              "  </thead>\n",
              "  <tbody>\n",
              "    <tr>\n",
              "      <th>0</th>\n",
              "      <td>6</td>\n",
              "      <td>2023-01-03</td>\n",
              "      <td>20:40</td>\n",
              "      <td>Eletrônicos</td>\n",
              "      <td>4457.9</td>\n",
              "      <td>4</td>\n",
              "      <td>713.26</td>\n",
              "      <td>Boleto</td>\n",
              "    </tr>\n",
              "    <tr>\n",
              "      <th>1</th>\n",
              "      <td>5</td>\n",
              "      <td>2023-01-03</td>\n",
              "      <td>21:48</td>\n",
              "      <td>Ferramentas e construção</td>\n",
              "      <td>115.9</td>\n",
              "      <td>1</td>\n",
              "      <td>0.00</td>\n",
              "      <td>PIX</td>\n",
              "    </tr>\n",
              "    <tr>\n",
              "      <th>2</th>\n",
              "      <td>9</td>\n",
              "      <td>2023-01-03</td>\n",
              "      <td>17:08</td>\n",
              "      <td>Beleza e cuidados pessoais</td>\n",
              "      <td>68.9</td>\n",
              "      <td>2</td>\n",
              "      <td>13.78</td>\n",
              "      <td>Cartão de Crédito</td>\n",
              "    </tr>\n",
              "    <tr>\n",
              "      <th>3</th>\n",
              "      <td>4</td>\n",
              "      <td>2023-01-03</td>\n",
              "      <td>14:29</td>\n",
              "      <td>Ferramentas e construção</td>\n",
              "      <td>80.9</td>\n",
              "      <td>5</td>\n",
              "      <td>40.45</td>\n",
              "      <td>PIX</td>\n",
              "    </tr>\n",
              "    <tr>\n",
              "      <th>4</th>\n",
              "      <td>8</td>\n",
              "      <td>2023-01-03</td>\n",
              "      <td>18:02</td>\n",
              "      <td>Beleza e cuidados pessoais</td>\n",
              "      <td>165.0</td>\n",
              "      <td>4</td>\n",
              "      <td>0.00</td>\n",
              "      <td>PIX</td>\n",
              "    </tr>\n",
              "  </tbody>\n",
              "</table>\n",
              "</div>\n",
              "    <div class=\"colab-df-buttons\">\n",
              "\n",
              "  <div class=\"colab-df-container\">\n",
              "    <button class=\"colab-df-convert\" onclick=\"convertToInteractive('df-38adeac4-b452-4ac6-ad1d-6bdd5f77ec05')\"\n",
              "            title=\"Convert this dataframe to an interactive table.\"\n",
              "            style=\"display:none;\">\n",
              "\n",
              "  <svg xmlns=\"http://www.w3.org/2000/svg\" height=\"24px\" viewBox=\"0 -960 960 960\">\n",
              "    <path d=\"M120-120v-720h720v720H120Zm60-500h600v-160H180v160Zm220 220h160v-160H400v160Zm0 220h160v-160H400v160ZM180-400h160v-160H180v160Zm440 0h160v-160H620v160ZM180-180h160v-160H180v160Zm440 0h160v-160H620v160Z\"/>\n",
              "  </svg>\n",
              "    </button>\n",
              "\n",
              "  <style>\n",
              "    .colab-df-container {\n",
              "      display:flex;\n",
              "      gap: 12px;\n",
              "    }\n",
              "\n",
              "    .colab-df-convert {\n",
              "      background-color: #E8F0FE;\n",
              "      border: none;\n",
              "      border-radius: 50%;\n",
              "      cursor: pointer;\n",
              "      display: none;\n",
              "      fill: #1967D2;\n",
              "      height: 32px;\n",
              "      padding: 0 0 0 0;\n",
              "      width: 32px;\n",
              "    }\n",
              "\n",
              "    .colab-df-convert:hover {\n",
              "      background-color: #E2EBFA;\n",
              "      box-shadow: 0px 1px 2px rgba(60, 64, 67, 0.3), 0px 1px 3px 1px rgba(60, 64, 67, 0.15);\n",
              "      fill: #174EA6;\n",
              "    }\n",
              "\n",
              "    .colab-df-buttons div {\n",
              "      margin-bottom: 4px;\n",
              "    }\n",
              "\n",
              "    [theme=dark] .colab-df-convert {\n",
              "      background-color: #3B4455;\n",
              "      fill: #D2E3FC;\n",
              "    }\n",
              "\n",
              "    [theme=dark] .colab-df-convert:hover {\n",
              "      background-color: #434B5C;\n",
              "      box-shadow: 0px 1px 3px 1px rgba(0, 0, 0, 0.15);\n",
              "      filter: drop-shadow(0px 1px 2px rgba(0, 0, 0, 0.3));\n",
              "      fill: #FFFFFF;\n",
              "    }\n",
              "  </style>\n",
              "\n",
              "    <script>\n",
              "      const buttonEl =\n",
              "        document.querySelector('#df-38adeac4-b452-4ac6-ad1d-6bdd5f77ec05 button.colab-df-convert');\n",
              "      buttonEl.style.display =\n",
              "        google.colab.kernel.accessAllowed ? 'block' : 'none';\n",
              "\n",
              "      async function convertToInteractive(key) {\n",
              "        const element = document.querySelector('#df-38adeac4-b452-4ac6-ad1d-6bdd5f77ec05');\n",
              "        const dataTable =\n",
              "          await google.colab.kernel.invokeFunction('convertToInteractive',\n",
              "                                                    [key], {});\n",
              "        if (!dataTable) return;\n",
              "\n",
              "        const docLinkHtml = 'Like what you see? Visit the ' +\n",
              "          '<a target=\"_blank\" href=https://colab.research.google.com/notebooks/data_table.ipynb>data table notebook</a>'\n",
              "          + ' to learn more about interactive tables.';\n",
              "        element.innerHTML = '';\n",
              "        dataTable['output_type'] = 'display_data';\n",
              "        await google.colab.output.renderOutput(dataTable, element);\n",
              "        const docLink = document.createElement('div');\n",
              "        docLink.innerHTML = docLinkHtml;\n",
              "        element.appendChild(docLink);\n",
              "      }\n",
              "    </script>\n",
              "  </div>\n",
              "\n",
              "\n",
              "    <div id=\"df-f72d58d9-c130-4cd0-b487-847ef3100505\">\n",
              "      <button class=\"colab-df-quickchart\" onclick=\"quickchart('df-f72d58d9-c130-4cd0-b487-847ef3100505')\"\n",
              "                title=\"Suggest charts\"\n",
              "                style=\"display:none;\">\n",
              "\n",
              "<svg xmlns=\"http://www.w3.org/2000/svg\" height=\"24px\"viewBox=\"0 0 24 24\"\n",
              "     width=\"24px\">\n",
              "    <g>\n",
              "        <path d=\"M19 3H5c-1.1 0-2 .9-2 2v14c0 1.1.9 2 2 2h14c1.1 0 2-.9 2-2V5c0-1.1-.9-2-2-2zM9 17H7v-7h2v7zm4 0h-2V7h2v10zm4 0h-2v-4h2v4z\"/>\n",
              "    </g>\n",
              "</svg>\n",
              "      </button>\n",
              "\n",
              "<style>\n",
              "  .colab-df-quickchart {\n",
              "      --bg-color: #E8F0FE;\n",
              "      --fill-color: #1967D2;\n",
              "      --hover-bg-color: #E2EBFA;\n",
              "      --hover-fill-color: #174EA6;\n",
              "      --disabled-fill-color: #AAA;\n",
              "      --disabled-bg-color: #DDD;\n",
              "  }\n",
              "\n",
              "  [theme=dark] .colab-df-quickchart {\n",
              "      --bg-color: #3B4455;\n",
              "      --fill-color: #D2E3FC;\n",
              "      --hover-bg-color: #434B5C;\n",
              "      --hover-fill-color: #FFFFFF;\n",
              "      --disabled-bg-color: #3B4455;\n",
              "      --disabled-fill-color: #666;\n",
              "  }\n",
              "\n",
              "  .colab-df-quickchart {\n",
              "    background-color: var(--bg-color);\n",
              "    border: none;\n",
              "    border-radius: 50%;\n",
              "    cursor: pointer;\n",
              "    display: none;\n",
              "    fill: var(--fill-color);\n",
              "    height: 32px;\n",
              "    padding: 0;\n",
              "    width: 32px;\n",
              "  }\n",
              "\n",
              "  .colab-df-quickchart:hover {\n",
              "    background-color: var(--hover-bg-color);\n",
              "    box-shadow: 0 1px 2px rgba(60, 64, 67, 0.3), 0 1px 3px 1px rgba(60, 64, 67, 0.15);\n",
              "    fill: var(--button-hover-fill-color);\n",
              "  }\n",
              "\n",
              "  .colab-df-quickchart-complete:disabled,\n",
              "  .colab-df-quickchart-complete:disabled:hover {\n",
              "    background-color: var(--disabled-bg-color);\n",
              "    fill: var(--disabled-fill-color);\n",
              "    box-shadow: none;\n",
              "  }\n",
              "\n",
              "  .colab-df-spinner {\n",
              "    border: 2px solid var(--fill-color);\n",
              "    border-color: transparent;\n",
              "    border-bottom-color: var(--fill-color);\n",
              "    animation:\n",
              "      spin 1s steps(1) infinite;\n",
              "  }\n",
              "\n",
              "  @keyframes spin {\n",
              "    0% {\n",
              "      border-color: transparent;\n",
              "      border-bottom-color: var(--fill-color);\n",
              "      border-left-color: var(--fill-color);\n",
              "    }\n",
              "    20% {\n",
              "      border-color: transparent;\n",
              "      border-left-color: var(--fill-color);\n",
              "      border-top-color: var(--fill-color);\n",
              "    }\n",
              "    30% {\n",
              "      border-color: transparent;\n",
              "      border-left-color: var(--fill-color);\n",
              "      border-top-color: var(--fill-color);\n",
              "      border-right-color: var(--fill-color);\n",
              "    }\n",
              "    40% {\n",
              "      border-color: transparent;\n",
              "      border-right-color: var(--fill-color);\n",
              "      border-top-color: var(--fill-color);\n",
              "    }\n",
              "    60% {\n",
              "      border-color: transparent;\n",
              "      border-right-color: var(--fill-color);\n",
              "    }\n",
              "    80% {\n",
              "      border-color: transparent;\n",
              "      border-right-color: var(--fill-color);\n",
              "      border-bottom-color: var(--fill-color);\n",
              "    }\n",
              "    90% {\n",
              "      border-color: transparent;\n",
              "      border-bottom-color: var(--fill-color);\n",
              "    }\n",
              "  }\n",
              "</style>\n",
              "\n",
              "      <script>\n",
              "        async function quickchart(key) {\n",
              "          const quickchartButtonEl =\n",
              "            document.querySelector('#' + key + ' button');\n",
              "          quickchartButtonEl.disabled = true;  // To prevent multiple clicks.\n",
              "          quickchartButtonEl.classList.add('colab-df-spinner');\n",
              "          try {\n",
              "            const charts = await google.colab.kernel.invokeFunction(\n",
              "                'suggestCharts', [key], {});\n",
              "          } catch (error) {\n",
              "            console.error('Error during call to suggestCharts:', error);\n",
              "          }\n",
              "          quickchartButtonEl.classList.remove('colab-df-spinner');\n",
              "          quickchartButtonEl.classList.add('colab-df-quickchart-complete');\n",
              "        }\n",
              "        (() => {\n",
              "          let quickchartButtonEl =\n",
              "            document.querySelector('#df-f72d58d9-c130-4cd0-b487-847ef3100505 button');\n",
              "          quickchartButtonEl.style.display =\n",
              "            google.colab.kernel.accessAllowed ? 'block' : 'none';\n",
              "        })();\n",
              "      </script>\n",
              "    </div>\n",
              "\n",
              "    </div>\n",
              "  </div>\n"
            ],
            "application/vnd.google.colaboratory.intrinsic+json": {
              "type": "dataframe",
              "variable_name": "df_vendas",
              "summary": "{\n  \"name\": \"df_vendas\",\n  \"rows\": 6169,\n  \"fields\": [\n    {\n      \"column\": \"ID_compra\",\n      \"properties\": {\n        \"dtype\": \"number\",\n        \"std\": 1780,\n        \"min\": 1,\n        \"max\": 6169,\n        \"num_unique_values\": 6169,\n        \"samples\": [\n          5998,\n          409,\n          1489\n        ],\n        \"semantic_type\": \"\",\n        \"description\": \"\"\n      }\n    },\n    {\n      \"column\": \"data\",\n      \"properties\": {\n        \"dtype\": \"object\",\n        \"num_unique_values\": 304,\n        \"samples\": [\n          \"2023-08-05\",\n          \"2023-07-06\",\n          \"2023-05-17\"\n        ],\n        \"semantic_type\": \"\",\n        \"description\": \"\"\n      }\n    },\n    {\n      \"column\": \"horario\",\n      \"properties\": {\n        \"dtype\": \"object\",\n        \"num_unique_values\": 659,\n        \"samples\": [\n          \"19:04\",\n          \"21:53\",\n          \"21:42\"\n        ],\n        \"semantic_type\": \"\",\n        \"description\": \"\"\n      }\n    },\n    {\n      \"column\": \"categoria\",\n      \"properties\": {\n        \"dtype\": \"category\",\n        \"num_unique_values\": 8,\n        \"samples\": [\n          \"Ferramentas e constru\\u00e7\\u00e3o\",\n          \"Livros\",\n          \"Eletr\\u00f4nicos\"\n        ],\n        \"semantic_type\": \"\",\n        \"description\": \"\"\n      }\n    },\n    {\n      \"column\": \"preco_unitario\",\n      \"properties\": {\n        \"dtype\": \"number\",\n        \"std\": 1852.0643423194142,\n        \"min\": 2.9,\n        \"max\": 8000.0,\n        \"num_unique_values\": 1655,\n        \"samples\": [\n          6291.9,\n          52.9,\n          31.0\n        ],\n        \"semantic_type\": \"\",\n        \"description\": \"\"\n      }\n    },\n    {\n      \"column\": \"quantidade\",\n      \"properties\": {\n        \"dtype\": \"number\",\n        \"std\": 1,\n        \"min\": 1,\n        \"max\": 5,\n        \"num_unique_values\": 5,\n        \"samples\": [\n          1,\n          3,\n          2\n        ],\n        \"semantic_type\": \"\",\n        \"description\": \"\"\n      }\n    },\n    {\n      \"column\": \"frete\",\n      \"properties\": {\n        \"dtype\": \"number\",\n        \"std\": 366.14922483792856,\n        \"min\": 0.0,\n        \"max\": 4521.54,\n        \"num_unique_values\": 2934,\n        \"samples\": [\n          30.58,\n          21.21,\n          14.23\n        ],\n        \"semantic_type\": \"\",\n        \"description\": \"\"\n      }\n    },\n    {\n      \"column\": \"metodo_pagamento\",\n      \"properties\": {\n        \"dtype\": \"category\",\n        \"num_unique_values\": 4,\n        \"samples\": [\n          \"PIX\",\n          \"Cart\\u00e3o de D\\u00e9bito\",\n          \"Boleto\"\n        ],\n        \"semantic_type\": \"\",\n        \"description\": \"\"\n      }\n    }\n  ]\n}"
            }
          },
          "metadata": {},
          "execution_count": 5
        }
      ]
    },
    {
      "cell_type": "code",
      "source": [
        "df_zoop_pay.head()"
      ],
      "metadata": {
        "colab": {
          "base_uri": "https://localhost:8080/",
          "height": 206
        },
        "id": "gbETHd0VHwLp",
        "outputId": "1df58228-fb5d-4d11-de9c-8cbecc943a58"
      },
      "execution_count": 6,
      "outputs": [
        {
          "output_type": "execute_result",
          "data": {
            "text/plain": [
              "   ID_cliente zoop_pay\n",
              "0        6149      Não\n",
              "1        9491      Sim\n",
              "2        5288      Não\n",
              "3        9679      Sim\n",
              "4        1380      Não"
            ],
            "text/html": [
              "\n",
              "  <div id=\"df-d41bf391-da65-4524-854f-3a9e5fb0e18a\" class=\"colab-df-container\">\n",
              "    <div>\n",
              "<style scoped>\n",
              "    .dataframe tbody tr th:only-of-type {\n",
              "        vertical-align: middle;\n",
              "    }\n",
              "\n",
              "    .dataframe tbody tr th {\n",
              "        vertical-align: top;\n",
              "    }\n",
              "\n",
              "    .dataframe thead th {\n",
              "        text-align: right;\n",
              "    }\n",
              "</style>\n",
              "<table border=\"1\" class=\"dataframe\">\n",
              "  <thead>\n",
              "    <tr style=\"text-align: right;\">\n",
              "      <th></th>\n",
              "      <th>ID_cliente</th>\n",
              "      <th>zoop_pay</th>\n",
              "    </tr>\n",
              "  </thead>\n",
              "  <tbody>\n",
              "    <tr>\n",
              "      <th>0</th>\n",
              "      <td>6149</td>\n",
              "      <td>Não</td>\n",
              "    </tr>\n",
              "    <tr>\n",
              "      <th>1</th>\n",
              "      <td>9491</td>\n",
              "      <td>Sim</td>\n",
              "    </tr>\n",
              "    <tr>\n",
              "      <th>2</th>\n",
              "      <td>5288</td>\n",
              "      <td>Não</td>\n",
              "    </tr>\n",
              "    <tr>\n",
              "      <th>3</th>\n",
              "      <td>9679</td>\n",
              "      <td>Sim</td>\n",
              "    </tr>\n",
              "    <tr>\n",
              "      <th>4</th>\n",
              "      <td>1380</td>\n",
              "      <td>Não</td>\n",
              "    </tr>\n",
              "  </tbody>\n",
              "</table>\n",
              "</div>\n",
              "    <div class=\"colab-df-buttons\">\n",
              "\n",
              "  <div class=\"colab-df-container\">\n",
              "    <button class=\"colab-df-convert\" onclick=\"convertToInteractive('df-d41bf391-da65-4524-854f-3a9e5fb0e18a')\"\n",
              "            title=\"Convert this dataframe to an interactive table.\"\n",
              "            style=\"display:none;\">\n",
              "\n",
              "  <svg xmlns=\"http://www.w3.org/2000/svg\" height=\"24px\" viewBox=\"0 -960 960 960\">\n",
              "    <path d=\"M120-120v-720h720v720H120Zm60-500h600v-160H180v160Zm220 220h160v-160H400v160Zm0 220h160v-160H400v160ZM180-400h160v-160H180v160Zm440 0h160v-160H620v160ZM180-180h160v-160H180v160Zm440 0h160v-160H620v160Z\"/>\n",
              "  </svg>\n",
              "    </button>\n",
              "\n",
              "  <style>\n",
              "    .colab-df-container {\n",
              "      display:flex;\n",
              "      gap: 12px;\n",
              "    }\n",
              "\n",
              "    .colab-df-convert {\n",
              "      background-color: #E8F0FE;\n",
              "      border: none;\n",
              "      border-radius: 50%;\n",
              "      cursor: pointer;\n",
              "      display: none;\n",
              "      fill: #1967D2;\n",
              "      height: 32px;\n",
              "      padding: 0 0 0 0;\n",
              "      width: 32px;\n",
              "    }\n",
              "\n",
              "    .colab-df-convert:hover {\n",
              "      background-color: #E2EBFA;\n",
              "      box-shadow: 0px 1px 2px rgba(60, 64, 67, 0.3), 0px 1px 3px 1px rgba(60, 64, 67, 0.15);\n",
              "      fill: #174EA6;\n",
              "    }\n",
              "\n",
              "    .colab-df-buttons div {\n",
              "      margin-bottom: 4px;\n",
              "    }\n",
              "\n",
              "    [theme=dark] .colab-df-convert {\n",
              "      background-color: #3B4455;\n",
              "      fill: #D2E3FC;\n",
              "    }\n",
              "\n",
              "    [theme=dark] .colab-df-convert:hover {\n",
              "      background-color: #434B5C;\n",
              "      box-shadow: 0px 1px 3px 1px rgba(0, 0, 0, 0.15);\n",
              "      filter: drop-shadow(0px 1px 2px rgba(0, 0, 0, 0.3));\n",
              "      fill: #FFFFFF;\n",
              "    }\n",
              "  </style>\n",
              "\n",
              "    <script>\n",
              "      const buttonEl =\n",
              "        document.querySelector('#df-d41bf391-da65-4524-854f-3a9e5fb0e18a button.colab-df-convert');\n",
              "      buttonEl.style.display =\n",
              "        google.colab.kernel.accessAllowed ? 'block' : 'none';\n",
              "\n",
              "      async function convertToInteractive(key) {\n",
              "        const element = document.querySelector('#df-d41bf391-da65-4524-854f-3a9e5fb0e18a');\n",
              "        const dataTable =\n",
              "          await google.colab.kernel.invokeFunction('convertToInteractive',\n",
              "                                                    [key], {});\n",
              "        if (!dataTable) return;\n",
              "\n",
              "        const docLinkHtml = 'Like what you see? Visit the ' +\n",
              "          '<a target=\"_blank\" href=https://colab.research.google.com/notebooks/data_table.ipynb>data table notebook</a>'\n",
              "          + ' to learn more about interactive tables.';\n",
              "        element.innerHTML = '';\n",
              "        dataTable['output_type'] = 'display_data';\n",
              "        await google.colab.output.renderOutput(dataTable, element);\n",
              "        const docLink = document.createElement('div');\n",
              "        docLink.innerHTML = docLinkHtml;\n",
              "        element.appendChild(docLink);\n",
              "      }\n",
              "    </script>\n",
              "  </div>\n",
              "\n",
              "\n",
              "    <div id=\"df-b0f5f8fe-ff9a-47aa-9078-ca72ba3e6259\">\n",
              "      <button class=\"colab-df-quickchart\" onclick=\"quickchart('df-b0f5f8fe-ff9a-47aa-9078-ca72ba3e6259')\"\n",
              "                title=\"Suggest charts\"\n",
              "                style=\"display:none;\">\n",
              "\n",
              "<svg xmlns=\"http://www.w3.org/2000/svg\" height=\"24px\"viewBox=\"0 0 24 24\"\n",
              "     width=\"24px\">\n",
              "    <g>\n",
              "        <path d=\"M19 3H5c-1.1 0-2 .9-2 2v14c0 1.1.9 2 2 2h14c1.1 0 2-.9 2-2V5c0-1.1-.9-2-2-2zM9 17H7v-7h2v7zm4 0h-2V7h2v10zm4 0h-2v-4h2v4z\"/>\n",
              "    </g>\n",
              "</svg>\n",
              "      </button>\n",
              "\n",
              "<style>\n",
              "  .colab-df-quickchart {\n",
              "      --bg-color: #E8F0FE;\n",
              "      --fill-color: #1967D2;\n",
              "      --hover-bg-color: #E2EBFA;\n",
              "      --hover-fill-color: #174EA6;\n",
              "      --disabled-fill-color: #AAA;\n",
              "      --disabled-bg-color: #DDD;\n",
              "  }\n",
              "\n",
              "  [theme=dark] .colab-df-quickchart {\n",
              "      --bg-color: #3B4455;\n",
              "      --fill-color: #D2E3FC;\n",
              "      --hover-bg-color: #434B5C;\n",
              "      --hover-fill-color: #FFFFFF;\n",
              "      --disabled-bg-color: #3B4455;\n",
              "      --disabled-fill-color: #666;\n",
              "  }\n",
              "\n",
              "  .colab-df-quickchart {\n",
              "    background-color: var(--bg-color);\n",
              "    border: none;\n",
              "    border-radius: 50%;\n",
              "    cursor: pointer;\n",
              "    display: none;\n",
              "    fill: var(--fill-color);\n",
              "    height: 32px;\n",
              "    padding: 0;\n",
              "    width: 32px;\n",
              "  }\n",
              "\n",
              "  .colab-df-quickchart:hover {\n",
              "    background-color: var(--hover-bg-color);\n",
              "    box-shadow: 0 1px 2px rgba(60, 64, 67, 0.3), 0 1px 3px 1px rgba(60, 64, 67, 0.15);\n",
              "    fill: var(--button-hover-fill-color);\n",
              "  }\n",
              "\n",
              "  .colab-df-quickchart-complete:disabled,\n",
              "  .colab-df-quickchart-complete:disabled:hover {\n",
              "    background-color: var(--disabled-bg-color);\n",
              "    fill: var(--disabled-fill-color);\n",
              "    box-shadow: none;\n",
              "  }\n",
              "\n",
              "  .colab-df-spinner {\n",
              "    border: 2px solid var(--fill-color);\n",
              "    border-color: transparent;\n",
              "    border-bottom-color: var(--fill-color);\n",
              "    animation:\n",
              "      spin 1s steps(1) infinite;\n",
              "  }\n",
              "\n",
              "  @keyframes spin {\n",
              "    0% {\n",
              "      border-color: transparent;\n",
              "      border-bottom-color: var(--fill-color);\n",
              "      border-left-color: var(--fill-color);\n",
              "    }\n",
              "    20% {\n",
              "      border-color: transparent;\n",
              "      border-left-color: var(--fill-color);\n",
              "      border-top-color: var(--fill-color);\n",
              "    }\n",
              "    30% {\n",
              "      border-color: transparent;\n",
              "      border-left-color: var(--fill-color);\n",
              "      border-top-color: var(--fill-color);\n",
              "      border-right-color: var(--fill-color);\n",
              "    }\n",
              "    40% {\n",
              "      border-color: transparent;\n",
              "      border-right-color: var(--fill-color);\n",
              "      border-top-color: var(--fill-color);\n",
              "    }\n",
              "    60% {\n",
              "      border-color: transparent;\n",
              "      border-right-color: var(--fill-color);\n",
              "    }\n",
              "    80% {\n",
              "      border-color: transparent;\n",
              "      border-right-color: var(--fill-color);\n",
              "      border-bottom-color: var(--fill-color);\n",
              "    }\n",
              "    90% {\n",
              "      border-color: transparent;\n",
              "      border-bottom-color: var(--fill-color);\n",
              "    }\n",
              "  }\n",
              "</style>\n",
              "\n",
              "      <script>\n",
              "        async function quickchart(key) {\n",
              "          const quickchartButtonEl =\n",
              "            document.querySelector('#' + key + ' button');\n",
              "          quickchartButtonEl.disabled = true;  // To prevent multiple clicks.\n",
              "          quickchartButtonEl.classList.add('colab-df-spinner');\n",
              "          try {\n",
              "            const charts = await google.colab.kernel.invokeFunction(\n",
              "                'suggestCharts', [key], {});\n",
              "          } catch (error) {\n",
              "            console.error('Error during call to suggestCharts:', error);\n",
              "          }\n",
              "          quickchartButtonEl.classList.remove('colab-df-spinner');\n",
              "          quickchartButtonEl.classList.add('colab-df-quickchart-complete');\n",
              "        }\n",
              "        (() => {\n",
              "          let quickchartButtonEl =\n",
              "            document.querySelector('#df-b0f5f8fe-ff9a-47aa-9078-ca72ba3e6259 button');\n",
              "          quickchartButtonEl.style.display =\n",
              "            google.colab.kernel.accessAllowed ? 'block' : 'none';\n",
              "        })();\n",
              "      </script>\n",
              "    </div>\n",
              "\n",
              "    </div>\n",
              "  </div>\n"
            ],
            "application/vnd.google.colaboratory.intrinsic+json": {
              "type": "dataframe",
              "variable_name": "df_zoop_pay",
              "summary": "{\n  \"name\": \"df_zoop_pay\",\n  \"rows\": 4453,\n  \"fields\": [\n    {\n      \"column\": \"ID_cliente\",\n      \"properties\": {\n        \"dtype\": \"number\",\n        \"std\": 2616,\n        \"min\": 1005,\n        \"max\": 9999,\n        \"num_unique_values\": 4453,\n        \"samples\": [\n          7826,\n          3212,\n          2734\n        ],\n        \"semantic_type\": \"\",\n        \"description\": \"\"\n      }\n    },\n    {\n      \"column\": \"zoop_pay\",\n      \"properties\": {\n        \"dtype\": \"category\",\n        \"num_unique_values\": 2,\n        \"samples\": [\n          \"Sim\",\n          \"N\\u00e3o\"\n        ],\n        \"semantic_type\": \"\",\n        \"description\": \"\"\n      }\n    }\n  ]\n}"
            }
          },
          "metadata": {},
          "execution_count": 6
        }
      ]
    },
    {
      "cell_type": "code",
      "source": [
        "import pandas as pd\n",
        "\n",
        "# URLs das bases\n",
        "url_clientes = \"https://raw.githubusercontent.com/alura-cursos/ia-datascience-dataviz/main/dados/zoop_clientes.csv\"\n",
        "url_vendas = \"https://raw.githubusercontent.com/alura-cursos/ia-datascience-dataviz/main/dados/zoop_vendas.csv\"\n",
        "\n",
        "# Carregando os dados\n",
        "clientes = pd.read_csv(url_clientes)\n",
        "vendas = pd.read_csv(url_vendas)\n",
        "\n",
        "# Realizando a junção com base na coluna \"ID_compra\"\n",
        "df = pd.merge(vendas, clientes, on=\"ID_compra\", how=\"inner\")\n",
        "\n",
        "# Reorganizando as colunas conforme solicitado\n",
        "colunas_ordenadas = [\n",
        "    \"ID_compra\", \"data\", \"horario\", \"categoria\", \"preco_unitario\",\n",
        "    \"quantidade\", \"frete\", \"metodo_pagamento\", \"ID_cliente\", \"idade\",\n",
        "    \"sexo_biologico\", \"cidade\", \"uf\", \"regiao\", \"cashback\", \"avaliacao_compra\"\n",
        "]\n",
        "\n",
        "# Reorganizando o DataFrame\n",
        "df = df[colunas_ordenadas]\n",
        "\n",
        "# Exibindo as primeiras linhas para verificação\n",
        "print(df.head())\n"
      ],
      "metadata": {
        "colab": {
          "base_uri": "https://localhost:8080/"
        },
        "id": "TWZ75pbZICGp",
        "outputId": "c601369a-c5ed-4cac-9900-a945611474b1"
      },
      "execution_count": 7,
      "outputs": [
        {
          "output_type": "stream",
          "name": "stdout",
          "text": [
            "   ID_compra        data horario                   categoria  preco_unitario  \\\n",
            "0          6  2023-01-03   20:40                 Eletrônicos          4457.9   \n",
            "1          5  2023-01-03   21:48    Ferramentas e construção           115.9   \n",
            "2          9  2023-01-03   17:08  Beleza e cuidados pessoais            68.9   \n",
            "3          4  2023-01-03   14:29    Ferramentas e construção            80.9   \n",
            "4          8  2023-01-03   18:02  Beleza e cuidados pessoais           165.0   \n",
            "\n",
            "   quantidade   frete   metodo_pagamento  ID_cliente  idade sexo_biologico  \\\n",
            "0           4  713.26             Boleto        6149     30      Masculino   \n",
            "1           1    0.00                PIX        9491     36      Masculino   \n",
            "2           2   13.78  Cartão de Crédito        5288     39       Feminino   \n",
            "3           5   40.45                PIX        9679     35      Masculino   \n",
            "4           4    0.00                PIX        1380     50      Masculino   \n",
            "\n",
            "         cidade                 uf    regiao cashback  avaliacao_compra  \n",
            "0  Porto Alegre  Rio Grande do Sul       Sul      Sim                10  \n",
            "1     São Paulo          São Paulo   Sudeste      Sim                 8  \n",
            "2   Porto Velho           Rondônia     Norte      Não                 7  \n",
            "3        Recife         Pernambuco  Nordeste      Sim                 9  \n",
            "4     São Paulo          São Paulo   Sudeste      Não                 9  \n"
          ]
        }
      ]
    },
    {
      "cell_type": "code",
      "source": [],
      "metadata": {
        "id": "9uWL977YJ0H-"
      },
      "execution_count": 7,
      "outputs": []
    },
    {
      "cell_type": "markdown",
      "metadata": {
        "id": "R9xMR002E6gU"
      },
      "source": [
        "> #### <strong><font color=\"#203f75\" size= 6>Prompt:</font></strong>\n",
        "\n",
        "Escreva aqui o prompt que você utilizou para gerar o código do desafio!\n",
        "\n",
        " vamos unir o \"df\" com a base \"zoop_pay\", lida a partir da url \"url_zoop_pay\", gerando um novo \"df\". Para união das bases, utilizaremos a coluna \"ID_cliente\". Além disso, vamos ajustar a coluna \"data\" para o formato datetime, em que seu formato na base de dados está como \"YYYY-MM-DD\"."
      ]
    },
    {
      "cell_type": "code",
      "execution_count": 8,
      "metadata": {
        "id": "wN0_cal1O6FJ",
        "colab": {
          "base_uri": "https://localhost:8080/"
        },
        "outputId": "add58e14-cc5b-4a36-8b0b-41611149c7ad"
      },
      "outputs": [
        {
          "output_type": "stream",
          "name": "stdout",
          "text": [
            "   ID_compra       data horario                   categoria  preco_unitario  \\\n",
            "0          6 2023-01-03   20:40                 Eletrônicos          4457.9   \n",
            "1          5 2023-01-03   21:48    Ferramentas e construção           115.9   \n",
            "2          9 2023-01-03   17:08  Beleza e cuidados pessoais            68.9   \n",
            "3          4 2023-01-03   14:29    Ferramentas e construção            80.9   \n",
            "4          8 2023-01-03   18:02  Beleza e cuidados pessoais           165.0   \n",
            "\n",
            "   quantidade   frete   metodo_pagamento  ID_cliente  idade sexo_biologico  \\\n",
            "0           4  713.26             Boleto        6149     30      Masculino   \n",
            "1           1    0.00                PIX        9491     36      Masculino   \n",
            "2           2   13.78  Cartão de Crédito        5288     39       Feminino   \n",
            "3           5   40.45                PIX        9679     35      Masculino   \n",
            "4           4    0.00                PIX        1380     50      Masculino   \n",
            "\n",
            "         cidade                 uf    regiao cashback  avaliacao_compra  \\\n",
            "0  Porto Alegre  Rio Grande do Sul       Sul      Sim                10   \n",
            "1     São Paulo          São Paulo   Sudeste      Sim                 8   \n",
            "2   Porto Velho           Rondônia     Norte      Não                 7   \n",
            "3        Recife         Pernambuco  Nordeste      Sim                 9   \n",
            "4     São Paulo          São Paulo   Sudeste      Não                 9   \n",
            "\n",
            "  zoop_pay  \n",
            "0      Não  \n",
            "1      Sim  \n",
            "2      Não  \n",
            "3      Sim  \n",
            "4      Não  \n"
          ]
        }
      ],
      "source": [
        "import pandas as pd\n",
        "\n",
        "# URLs das bases\n",
        "url_clientes = \"https://raw.githubusercontent.com/alura-cursos/ia-datascience-dataviz/main/dados/zoop_clientes.csv\"\n",
        "url_vendas = \"https://raw.githubusercontent.com/alura-cursos/ia-datascience-dataviz/main/dados/zoop_vendas.csv\"\n",
        "url_zoop_pay = \"https://raw.githubusercontent.com/alura-cursos/ia-datascience-dataviz/main/dados/cadastro_zoop_pay.csv\"\n",
        "\n",
        "# Carregando os dados\n",
        "clientes = pd.read_csv(url_clientes)\n",
        "vendas = pd.read_csv(url_vendas)\n",
        "zoop_pay = pd.read_csv(url_zoop_pay)\n",
        "\n",
        "# Unindo clientes com vendas pela coluna \"ID_compra\"\n",
        "df = pd.merge(vendas, clientes, on=\"ID_compra\", how=\"inner\")\n",
        "\n",
        "# Reorganizando as colunas conforme solicitado anteriormente\n",
        "colunas_ordenadas = [\n",
        "    \"ID_compra\", \"data\", \"horario\", \"categoria\", \"preco_unitario\",\n",
        "    \"quantidade\", \"frete\", \"metodo_pagamento\", \"ID_cliente\", \"idade\",\n",
        "    \"sexo_biologico\", \"cidade\", \"uf\", \"regiao\", \"cashback\", \"avaliacao_compra\"\n",
        "]\n",
        "df = df[colunas_ordenadas]\n",
        "\n",
        "# Unindo com a base zoop_pay pela coluna \"ID_cliente\"\n",
        "df = pd.merge(df, zoop_pay, on=\"ID_cliente\", how=\"left\")  # left join para manter todas as vendas\n",
        "\n",
        "# Convertendo a coluna \"data\" para datetime no formato correto\n",
        "df['data'] = pd.to_datetime(df['data'], format='%Y-%m-%d')\n",
        "\n",
        "# Visualizando as primeiras linhas\n",
        "print(df.head())\n"
      ]
    },
    {
      "cell_type": "code",
      "source": [],
      "metadata": {
        "id": "xi9jugetKfbL"
      },
      "execution_count": 8,
      "outputs": []
    },
    {
      "cell_type": "code",
      "source": [],
      "metadata": {
        "id": "_MfJUQbzIoiG"
      },
      "execution_count": 8,
      "outputs": []
    },
    {
      "cell_type": "code",
      "source": [],
      "metadata": {
        "id": "U0r-YWukIzLi"
      },
      "execution_count": 8,
      "outputs": []
    },
    {
      "cell_type": "code",
      "source": [],
      "metadata": {
        "id": "o2MuqsXqI4lD"
      },
      "execution_count": 8,
      "outputs": []
    },
    {
      "cell_type": "markdown",
      "metadata": {
        "id": "ix1N_JAH_T1C"
      },
      "source": [
        "## Aula 02 - Visualizando os dados"
      ]
    },
    {
      "cell_type": "markdown",
      "metadata": {
        "id": "1sZUt4Nk_scq"
      },
      "source": [
        "### Mão na Massa - Gerando visuais em relação a localidade"
      ]
    },
    {
      "cell_type": "markdown",
      "metadata": {
        "id": "WEpLlpzfE6gV"
      },
      "source": [
        "#### Desafio 1:"
      ]
    },
    {
      "cell_type": "markdown",
      "metadata": {
        "id": "HGlYqnd6E6gV"
      },
      "source": [
        "> #### <strong><font color=\"#203f75\" size= 6>Prompt:</font></strong>\n",
        "\n",
        "Escreva aqui o prompt que você utilizou para gerar o código do desafio!"
      ]
    },
    {
      "cell_type": "code",
      "execution_count": 8,
      "metadata": {
        "id": "EQ2k1j6f_scv"
      },
      "outputs": [],
      "source": []
    },
    {
      "cell_type": "markdown",
      "metadata": {
        "id": "HA9JdqqWE6gV"
      },
      "source": [
        "#### Desafio 2:"
      ]
    },
    {
      "cell_type": "markdown",
      "metadata": {
        "id": "V25hjAPVE6gV"
      },
      "source": [
        "> #### <strong><font color=\"#203f75\" size= 6>Prompt:</font></strong>\n",
        "\n",
        "Escreva aqui o prompt que você utilizou para gerar o código do desafio!"
      ]
    },
    {
      "cell_type": "code",
      "execution_count": null,
      "metadata": {
        "id": "kz2xGyH0_scv"
      },
      "outputs": [],
      "source": []
    },
    {
      "cell_type": "code",
      "source": [],
      "metadata": {
        "id": "DtxjQZnbWc3S"
      },
      "execution_count": null,
      "outputs": []
    },
    {
      "cell_type": "markdown",
      "metadata": {
        "id": "1uTAdILB_T6m"
      },
      "source": [
        "## Aula 03 - Gerando mais visuais"
      ]
    },
    {
      "cell_type": "markdown",
      "metadata": {
        "id": "SsQ3DvzR_t-L"
      },
      "source": [
        "### Mão na Massa - Perfil dos clientes"
      ]
    },
    {
      "cell_type": "markdown",
      "metadata": {
        "id": "s1fcCVmyE6gV"
      },
      "source": [
        "#### Desafio 1:"
      ]
    },
    {
      "cell_type": "markdown",
      "metadata": {
        "id": "mDskGUpyE6gW"
      },
      "source": [
        "> #### <strong><font color=\"#203f75\" size= 6>Prompt:</font></strong>\n",
        "\n",
        "Escreva aqui o prompt que você utilizou para gerar o código do desafio!\n",
        "\n",
        "Desafio 1:\n",
        "\n",
        "Construa e execute um prompt no ChatGPT para gerar a partir de nossa base de dados um visual que apresente o faturamento das vendas por região. Lembre-se que aqui o faturamento é dado pelo produto do valor unitário pela quantidade comprada somado ao frete.\n",
        "\n",
        "Prompt: Temos um DataFrame chamado \"df\" e queremos construir um visual de gráfico de colunas agrupadas lado a lado que apresente o faturamento das vendas por região, o faturamento é dado pelo produto do valor unitário pela quantidade comprada somado ao frete.\n",
        "\n",
        "Desejamos criar uma visualização que apresente o faturamento das vendas por região (\"faturamento\"), agrupando as categorias lado a lado em relação produto do valor unitário pela quantidade comprada somado ao frete. Utilize as bibliotecas de visualização de dados do Python para criar essa visualização."
      ]
    },
    {
      "cell_type": "code",
      "execution_count": 13,
      "metadata": {
        "id": "bIoMVk5r_t-Q",
        "colab": {
          "base_uri": "https://localhost:8080/",
          "height": 407
        },
        "outputId": "9af15190-7235-4109-eb96-3a5c6f6ad990"
      },
      "outputs": [
        {
          "output_type": "display_data",
          "data": {
            "text/plain": [
              "<Figure size 1000x400 with 1 Axes>"
            ],
            "image/png": "[encoded data removed]"
          },
          "metadata": {}
        }
      ],
      "source": [
        "# 1. Criar a coluna de faturamento\n",
        "df['faturamento'] = (df['preco_unitario'] * df['quantidade']) + df['frete']\n",
        "\n",
        "# 2. Agrupar os dados por região e produto, somando o faturamento\n",
        "df_agrupado = df.groupby(['regiao', 'categoria'])['faturamento'].sum().reset_index()\n",
        "\n",
        "# 3. Criar o gráfico de colunas agrupadas usando Seaborn\n",
        "plt.figure(figsize=(10, 4))\n",
        "sns.barplot(data=df_agrupado, x='regiao', y='faturamento', hue='categoria')\n",
        "\n",
        "# 4. Personalização do gráfico\n",
        "plt.title('Faturamento das Vendas por Região e Categoria')\n",
        "plt.ylabel('Faturamento (R$)')\n",
        "plt.xlabel('Região')\n",
        "plt.legend(title='Categoria')\n",
        "plt.tight_layout()\n",
        "plt.show()"
      ]
    },
    {
      "cell_type": "markdown",
      "metadata": {
        "id": "NXvUvRFlE6gW"
      },
      "source": [
        "#### Desafio 2:"
      ]
    },
    {
      "cell_type": "markdown",
      "metadata": {
        "id": "sJFY_mbuE6gW"
      },
      "source": [
        "> #### <strong><font color=\"#203f75\" size= 6>Prompt:</font></strong>\n",
        "\n",
        "Escreva aqui o prompt que você utilizou para gerar o código do desafio!\n",
        "\n",
        "Temos um DataFrame chamado \"df\" e queremos construir um visual de gráfico de colunas que apresente a composição do público por sexo biológico, nos estados de São Paulo e Rio de Janeiro.\n",
        "\n",
        "Desejamos criar uma visualização que apresente apresente o  a composição do público por sexo biológico, nos estados de São Paulo e Rio de Janeiro, agrupando os dados para apresentação.\n",
        "Utilize as bibliotecas de visualização de dados do Python para criar essa visualização."
      ]
    },
    {
      "cell_type": "code",
      "execution_count": 15,
      "metadata": {
        "id": "0lEwT00p_t-Q",
        "colab": {
          "base_uri": "https://localhost:8080/",
          "height": 607
        },
        "outputId": "00d1f8ad-89b7-4e45-8323-a601dce5b87e"
      },
      "outputs": [
        {
          "output_type": "display_data",
          "data": {
            "text/plain": [
              "<Figure size 800x600 with 1 Axes>"
            ],
            "image/png": "[encoded data removed]"
          },
          "metadata": {}
        }
      ],
      "source": [
        "# Filtrar apenas os estados desejados\n",
        "df_filtrado = df[df['uf'].isin(['São Paulo', 'Rio de Janeiro'])]\n",
        "\n",
        "# Agrupar por estado e sexo, contando o número de pessoas\n",
        "df_agrupado = df_filtrado.groupby(['uf', 'sexo_biologico']).size().reset_index(name='quantidade')\n",
        "\n",
        "# Criar gráfico de colunas (barras agrupadas)\n",
        "plt.figure(figsize=(8, 6))\n",
        "sns.barplot(data=df_agrupado, x='uf', y='quantidade', hue='sexo_biologico')\n",
        "\n",
        "# Personalização\n",
        "plt.title('Composição do Público por Sexo Biológico\\nEstados: SP e RJ')\n",
        "plt.xlabel('Estado')\n",
        "plt.ylabel('Número de Pessoas')\n",
        "plt.legend(title='Sexo Biológico')\n",
        "plt.tight_layout()\n",
        "plt.show()"
      ]
    },
    {
      "cell_type": "code",
      "source": [],
      "metadata": {
        "id": "hxLa2jtraftC"
      },
      "execution_count": null,
      "outputs": []
    },
    {
      "cell_type": "markdown",
      "metadata": {
        "id": "i_X1NcH9_T-u"
      },
      "source": [
        "## Aula 04 - Técnicas de storytelling"
      ]
    },
    {
      "cell_type": "markdown",
      "metadata": {
        "id": "mpLDSrtdE6gW"
      },
      "source": [
        "### Paleta de Cores"
      ]
    },
    {
      "cell_type": "markdown",
      "metadata": {
        "id": "31oXv0xFE6gW"
      },
      "source": [
        "Vamos compartilhar aqui a paleta de cores que usamos durante o curso pra você executar e usar em seu projeto, mas sinta-se livre para construir a sua própria."
      ]
    },
    {
      "cell_type": "code",
      "execution_count": 9,
      "metadata": {
        "id": "zlsvhPcuE6gW"
      },
      "outputs": [],
      "source": [
        "# Adicionando as cores como variáveis do projeto\n",
        "VERMELHO_1,\tVERMELHO_2,\tVERMELHO_3 = \"#e23155\",\t\"#cc2c4e\", \"#b32742\"\n",
        "AZUL_1,\tAZUL_2,\tAZUL_3 = \"#203f75\",\t\"#1c3867\", \"#19325b\"\n",
        "BRANCO,\tCINZA_1, CINZA_2, CINZA_3, CINZA_4,\tCINZA_5 = \"#ffffff\", \"#ebebeb\",\t\"#d9d9d9\", \"#cccccc\", \"#555655\", \"#231f20\"\n",
        "AQUA_1,\tAQUA_2,\tAQUA_3 = \"#addcd4\",\t\"#9fccc5\", \"#96bfb9\""
      ]
    },
    {
      "cell_type": "markdown",
      "metadata": {
        "id": "jQGogqg0_uiR"
      },
      "source": [
        "### Mão na Massa - Refinando os visuais escolhidos"
      ]
    },
    {
      "cell_type": "markdown",
      "metadata": {
        "id": "mjvWyd1FE6gW"
      },
      "source": [
        "#### Desafio 1:"
      ]
    },
    {
      "cell_type": "markdown",
      "metadata": {
        "id": "5iLrGl0OE6gW"
      },
      "source": [
        "##### Gráfico sem refinamento"
      ]
    },
    {
      "cell_type": "code",
      "execution_count": 9,
      "metadata": {
        "id": "kHsVLA2b_uiS"
      },
      "outputs": [],
      "source": []
    },
    {
      "cell_type": "markdown",
      "metadata": {
        "id": "mYKllfHhE6gX"
      },
      "source": [
        "> #### <strong><font color=\"#203f75\" size= 6>Prompt:</font></strong>\n",
        "\n",
        "Escreva aqui o prompt que você utilizou para gerar o código do desafio!\n"
      ]
    },
    {
      "cell_type": "code",
      "execution_count": 9,
      "metadata": {
        "id": "T1dqk3Al_uiS"
      },
      "outputs": [],
      "source": []
    },
    {
      "cell_type": "markdown",
      "metadata": {
        "id": "3ngFWBsoE6gX"
      },
      "source": [
        "#### Desafio 2:"
      ]
    },
    {
      "cell_type": "markdown",
      "metadata": {
        "id": "_la65prKE6gX"
      },
      "source": [
        "##### Gráfico sem refinamento"
      ]
    },
    {
      "cell_type": "code",
      "execution_count": 9,
      "metadata": {
        "id": "uaVxWWPC_uiS"
      },
      "outputs": [],
      "source": []
    },
    {
      "cell_type": "markdown",
      "metadata": {
        "id": "JnLkHJiME6gX"
      },
      "source": [
        "> #### <strong><font color=\"#203f75\" size= 6>Prompt:</font></strong>\n",
        "\n",
        "Escreva aqui o prompt que você utilizou para gerar o código do desafio!"
      ]
    },
    {
      "cell_type": "code",
      "execution_count": 9,
      "metadata": {
        "id": "QwvegXt_E6gd"
      },
      "outputs": [],
      "source": []
    }
  ],
  "metadata": {
    "colab": {
      "provenance": [],
      "include_colab_link": true
    },
    "kernelspec": {
      "display_name": "base",
      "language": "python",
      "name": "python3"
    },
    "language_info": {
      "codemirror_mode": {
        "name": "ipython",
        "version": 3
      },
      "file_extension": ".py",
      "mimetype": "text/x-python",
      "name": "python",
      "nbconvert_exporter": "python",
      "pygments_lexer": "ipython3",
      "version": "3.10.5"
    },
    "orig_nbformat": 4
  },
  "nbformat": 4,
  "nbformat_minor": 0
}